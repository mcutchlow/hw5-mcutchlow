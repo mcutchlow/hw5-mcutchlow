{
 "cells": [
  {
   "cell_type": "code",
   "execution_count": null,
   "metadata": {},
   "outputs": [],
   "source": [
    "import math\n",
    "\n",
    "def gcd(a, b):\n",
    "    if b > a:\n",
    "        a, b = b, a\n",
    "    if b == 0:\n",
    "        return a\n",
    "    else:\n",
    "        return gcd(b, a % b)\n",
    "\n",
    "def remove_pairs(path):\n",
    "    if len(path) < 2:\n",
    "        return path\n",
    "    opposite_pairs = [('N', 'S'), ('S', 'N'), ('E', 'W'), ('W', 'E')]\n",
    "    if (path[0], path[1]) in opposite_pairs:\n",
    "        return remove_pairs(path[2:])\n",
    "    else:\n",
    "        return path[0] + remove_pairs(path[1:])\n",
    "\n",
    "def bisection_root(func, x1, x2):\n",
    "    threshold = 0.0000001\n",
    "    y1 = func(x1)\n",
    "    y2 = func(x2)\n",
    "    if abs(y1) < threshold:\n",
    "        return x1\n",
    "    elif abs(y2) < threshold:\n",
    "        return x2\n",
    "    if y1 * y2 > 0:\n",
    "        raise ValueError(\"Initial guesses have the same sign. \\\n",
    "            Unable to find root.\")\n",
    "    while True:\n",
    "        x_mid = (x1 + x2) / 2\n",
    "        y_mid = func(x_mid)\n",
    "        if abs(y_mid) < threshold:\n",
    "            return x_mid\n",
    "        elif abs(y1) < threshold:\n",
    "            return x1\n",
    "        elif abs(y2) < threshold:\n",
    "            return x2\n",
    "        if y_mid * y1 < 0:\n",
    "            x2 = x_mid\n",
    "            y2 = y_mid\n",
    "        else:\n",
    "            x1 = x_mid\n",
    "            y1 = y_mid\n",
    "        if abs(x_mid - math.pi) < threshold:\n",
    "            return math.pi"
   ]
  }
 ],
 "metadata": {
  "kernelspec": {
   "display_name": "Python 3.10.8 64-bit",
   "language": "python",
   "name": "python3"
  },
  "language_info": {
   "codemirror_mode": {
    "name": "ipython",
    "version": 3
   },
   "file_extension": ".py",
   "mimetype": "text/x-python",
   "name": "python",
   "nbconvert_exporter": "python",
   "pygments_lexer": "ipython3",
   "version": "3.10.8"
  },
  "orig_nbformat": 4,
  "vscode": {
   "interpreter": {
    "hash": "aee8b7b246df8f9039afb4144a1f6fd8d2ca17a180786b69acc140d282b71a49"
   }
  }
 },
 "nbformat": 4,
 "nbformat_minor": 2
}
